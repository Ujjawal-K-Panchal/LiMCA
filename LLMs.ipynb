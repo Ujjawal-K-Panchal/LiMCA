{
 "cells": [
  {
   "cell_type": "markdown",
   "id": "da9c2870-1e84-4382-b28a-2c6d2321a6d5",
   "metadata": {},
   "source": [
    "# LLM File."
   ]
  },
  {
   "cell_type": "code",
   "execution_count": null,
   "id": "14e90710-65c1-42ee-a2a5-1f9b021254fb",
   "metadata": {},
   "outputs": [],
   "source": []
  }
 ],
 "metadata": {
  "kernelspec": {
   "display_name": "Python 3 (ipykernel)",
   "language": "python",
   "name": "python3"
  },
  "language_info": {
   "codemirror_mode": {
    "name": "ipython",
    "version": 3
   },
   "file_extension": ".py",
   "mimetype": "text/x-python",
   "name": "python",
   "nbconvert_exporter": "python",
   "pygments_lexer": "ipython3",
   "version": "3.10.13"
  }
 },
 "nbformat": 4,
 "nbformat_minor": 5
}
